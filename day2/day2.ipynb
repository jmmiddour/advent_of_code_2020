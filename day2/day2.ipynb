{
 "metadata": {
  "language_info": {
   "codemirror_mode": {
    "name": "ipython",
    "version": 3
   },
   "file_extension": ".py",
   "mimetype": "text/x-python",
   "name": "python",
   "nbconvert_exporter": "python",
   "pygments_lexer": "ipython3",
   "version": "3.8.3-final"
  },
  "orig_nbformat": 2,
  "kernelspec": {
   "name": "python3",
   "display_name": "Python 3"
  }
 },
 "nbformat": 4,
 "nbformat_minor": 2,
 "cells": [
  {
   "source": [
    "# Part 1: Password Philosophy"
   ],
   "cell_type": "markdown",
   "metadata": {}
  },
  {
   "source": [
    "* Each line gives the password policy and then the password. \n",
    "* The password policy indicates the lowest and highest number of times a given letter must appear for the password to be valid. \n",
    "* For example, 1-3 a means that the password must contain \"a\" at least 1 time and at most 3 times.\n",
    "* To try to debug the problem, they have created a list (your puzzle input) of passwords (according to the corrupted database) and the corporate policy when that password was set."
   ],
   "cell_type": "markdown",
   "metadata": {}
  },
  {
   "source": [
    "## Problem to solve:\n",
    "How many passwords are valid according to their policies?"
   ],
   "cell_type": "markdown",
   "metadata": {}
  },
  {
   "cell_type": "code",
   "execution_count": 1,
   "metadata": {},
   "outputs": [],
   "source": [
    "import pandas as pd"
   ]
  },
  {
   "cell_type": "code",
   "execution_count": 2,
   "metadata": {},
   "outputs": [
    {
     "output_type": "execute_result",
     "data": {
      "text/plain": [
       "  pol_num char             password\n",
       "0    8-11    l      qllllqllklhlvtl\n",
       "1     1-3    m            wmmmmmttm\n",
       "2     2-4    p                pgppp\n",
       "3   11-12    n         nnndnnnnnnnn\n",
       "4   17-19    q  qprqdcgrqrqmmhtqqvr"
      ],
      "text/html": "<div>\n<style scoped>\n    .dataframe tbody tr th:only-of-type {\n        vertical-align: middle;\n    }\n\n    .dataframe tbody tr th {\n        vertical-align: top;\n    }\n\n    .dataframe thead th {\n        text-align: right;\n    }\n</style>\n<table border=\"1\" class=\"dataframe\">\n  <thead>\n    <tr style=\"text-align: right;\">\n      <th></th>\n      <th>pol_num</th>\n      <th>char</th>\n      <th>password</th>\n    </tr>\n  </thead>\n  <tbody>\n    <tr>\n      <th>0</th>\n      <td>8-11</td>\n      <td>l</td>\n      <td>qllllqllklhlvtl</td>\n    </tr>\n    <tr>\n      <th>1</th>\n      <td>1-3</td>\n      <td>m</td>\n      <td>wmmmmmttm</td>\n    </tr>\n    <tr>\n      <th>2</th>\n      <td>2-4</td>\n      <td>p</td>\n      <td>pgppp</td>\n    </tr>\n    <tr>\n      <th>3</th>\n      <td>11-12</td>\n      <td>n</td>\n      <td>nnndnnnnnnnn</td>\n    </tr>\n    <tr>\n      <th>4</th>\n      <td>17-19</td>\n      <td>q</td>\n      <td>qprqdcgrqrqmmhtqqvr</td>\n    </tr>\n  </tbody>\n</table>\n</div>"
     },
     "metadata": {},
     "execution_count": 2
    }
   ],
   "source": [
    "# Read in the data\n",
    "pws = pd.read_csv('passwords.csv')\n",
    "\n",
    "# Look at the data\n",
    "pws.head()"
   ]
  },
  {
   "cell_type": "code",
   "execution_count": 4,
   "metadata": {},
   "outputs": [
    {
     "output_type": "execute_result",
     "data": {
      "text/plain": [
       "   start  end char              password\n",
       "0      8   11    l       qllllqllklhlvtl\n",
       "1      1    3    m             wmmmmmttm\n",
       "2      2    4    p                 pgppp\n",
       "3     11   12    n          nnndnnnnnnnn\n",
       "4     17   19    q   qprqdcgrqrqmmhtqqvr\n",
       "5     16   17    k     nphkpzqswcltkkbkk\n",
       "6      6    9    c          rvcvlcjcbhxs\n",
       "7     18   20    v  hbjhmrtwzfqfvhzjjvcv\n",
       "8      5    9    z           jzzhzttttnz\n",
       "9      7   13    d         bdqdtddddnwdd"
      ],
      "text/html": "<div>\n<style scoped>\n    .dataframe tbody tr th:only-of-type {\n        vertical-align: middle;\n    }\n\n    .dataframe tbody tr th {\n        vertical-align: top;\n    }\n\n    .dataframe thead th {\n        text-align: right;\n    }\n</style>\n<table border=\"1\" class=\"dataframe\">\n  <thead>\n    <tr style=\"text-align: right;\">\n      <th></th>\n      <th>start</th>\n      <th>end</th>\n      <th>char</th>\n      <th>password</th>\n    </tr>\n  </thead>\n  <tbody>\n    <tr>\n      <th>0</th>\n      <td>8</td>\n      <td>11</td>\n      <td>l</td>\n      <td>qllllqllklhlvtl</td>\n    </tr>\n    <tr>\n      <th>1</th>\n      <td>1</td>\n      <td>3</td>\n      <td>m</td>\n      <td>wmmmmmttm</td>\n    </tr>\n    <tr>\n      <th>2</th>\n      <td>2</td>\n      <td>4</td>\n      <td>p</td>\n      <td>pgppp</td>\n    </tr>\n    <tr>\n      <th>3</th>\n      <td>11</td>\n      <td>12</td>\n      <td>n</td>\n      <td>nnndnnnnnnnn</td>\n    </tr>\n    <tr>\n      <th>4</th>\n      <td>17</td>\n      <td>19</td>\n      <td>q</td>\n      <td>qprqdcgrqrqmmhtqqvr</td>\n    </tr>\n    <tr>\n      <th>5</th>\n      <td>16</td>\n      <td>17</td>\n      <td>k</td>\n      <td>nphkpzqswcltkkbkk</td>\n    </tr>\n    <tr>\n      <th>6</th>\n      <td>6</td>\n      <td>9</td>\n      <td>c</td>\n      <td>rvcvlcjcbhxs</td>\n    </tr>\n    <tr>\n      <th>7</th>\n      <td>18</td>\n      <td>20</td>\n      <td>v</td>\n      <td>hbjhmrtwzfqfvhzjjvcv</td>\n    </tr>\n    <tr>\n      <th>8</th>\n      <td>5</td>\n      <td>9</td>\n      <td>z</td>\n      <td>jzzhzttttnz</td>\n    </tr>\n    <tr>\n      <th>9</th>\n      <td>7</td>\n      <td>13</td>\n      <td>d</td>\n      <td>bdqdtddddnwdd</td>\n    </tr>\n  </tbody>\n</table>\n</div>"
     },
     "metadata": {},
     "execution_count": 4
    }
   ],
   "source": [
    "# Split the columm pol_num into 2 columns for start and end\n",
    "pws[['start', 'end']] = pws.pol_num.str.split('-', expand=True)\n",
    "\n",
    "# Type values in start and end as an integers\n",
    "pws['start'] = pd.to_numeric(pws['start'])\n",
    "pws['end'] = pd.to_numeric(pws['end'])\n",
    "\n",
    "# Reorder the columns with only the columns I need now\n",
    "pws = pws[['start', 'end', 'char', 'password']]\n",
    "\n",
    "pws.head(10)"
   ]
  },
  {
   "cell_type": "code",
   "execution_count": 5,
   "metadata": {},
   "outputs": [
    {
     "output_type": "stream",
     "name": "stdout",
     "text": [
      "Number of valid passwords: 0\n"
     ]
    }
   ],
   "source": [
    "# Iterate through the passwords to compare them to the policy\n",
    "counter = 0\n",
    "for i in pws['char']:\n",
    "    for j in pws['password']:\n",
    "        if j in i:\n",
    "            num_ltr = i.count(j)\n",
    "            for s in pws['start']:\n",
    "                for e in pws['end']:\n",
    "                    if num_ltr >= s and num_ltr <= e:\n",
    "                        counter += 1\n",
    "\n",
    "print(f'Number of valid passwords: {counter}')"
   ]
  },
  {
   "cell_type": "code",
   "execution_count": null,
   "metadata": {},
   "outputs": [],
   "source": []
  }
 ]
}